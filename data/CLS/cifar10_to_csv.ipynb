{
 "cells": [
  {
   "cell_type": "code",
   "execution_count": null,
   "id": "042edf45-c6d6-4d51-9f7f-678702c57340",
   "metadata": {},
   "outputs": [],
   "source": []
  },
  {
   "cell_type": "code",
   "execution_count": 3,
   "id": "98a91bbb-4906-4353-8bf5-1ead0cf53691",
   "metadata": {
    "tags": []
   },
   "outputs": [
    {
     "name": "stderr",
     "output_type": "stream",
     "text": [
      "Train batch 1: 100%|██████████| 10000/10000 [00:04<00:00, 2176.05it/s]\n",
      "Train batch 2: 100%|██████████| 10000/10000 [00:03<00:00, 3227.87it/s]\n",
      "Train batch 3: 100%|██████████| 10000/10000 [00:03<00:00, 3283.38it/s]\n",
      "Train batch 4: 100%|██████████| 10000/10000 [00:03<00:00, 3190.60it/s]\n",
      "Train batch 5: 100%|██████████| 10000/10000 [00:03<00:00, 3183.91it/s]\n",
      "Test batch 0: 100%|██████████| 10000/10000 [00:03<00:00, 2860.47it/s]\n"
     ]
    }
   ],
   "source": [
    "import os\n",
    "import pickle\n",
    "import numpy as np\n",
    "from PIL import Image\n",
    "from tqdm import tqdm\n",
    "\n",
    "# CIFAR-10 类别名\n",
    "CIFAR10_CLASSES = [\n",
    "    'airplane', 'automobile', 'bird', 'cat', 'deer',\n",
    "    'dog', 'frog', 'horse', 'ship', 'truck'\n",
    "]\n",
    "\n",
    "def unpickle(file):\n",
    "    with open(file, 'rb') as fo:\n",
    "        return pickle.load(fo, encoding='bytes')\n",
    "\n",
    "def convert_to_caltech_style(cifar_root, output_dir):\n",
    "    os.makedirs(output_dir, exist_ok=True)\n",
    "\n",
    "    # 加载训练数据\n",
    "    for batch_id in range(1, 6):\n",
    "        batch = unpickle(os.path.join(cifar_root, f'data_batch_{batch_id}'))\n",
    "        save_images(batch, output_dir, is_train=True, batch_id=batch_id)\n",
    "\n",
    "    # 加载测试数据\n",
    "    test_batch = unpickle(os.path.join(cifar_root, 'test_batch'))\n",
    "    save_images(test_batch, output_dir, is_train=False, batch_id=0)\n",
    "\n",
    "def save_images(batch, output_dir, is_train, batch_id):\n",
    "    data = batch[b'data']  # [10000, 3072]\n",
    "    labels = batch[b'labels']  # [10000]\n",
    "    filenames = batch[b'filenames']\n",
    "\n",
    "    for i in tqdm(range(len(data)), desc=f\"{'Train' if is_train else 'Test'} batch {batch_id}\"):\n",
    "        img = data[i].reshape(3, 32, 32).transpose(1, 2, 0)  # 转换为 HWC 格式\n",
    "        label = labels[i]\n",
    "        cls_name = CIFAR10_CLASSES[label]\n",
    "\n",
    "        class_dir = os.path.join(output_dir, cls_name)\n",
    "        os.makedirs(class_dir, exist_ok=True)\n",
    "\n",
    "        # 图像保存路径\n",
    "        fname = filenames[i].decode('utf-8')\n",
    "        img_path = os.path.join(class_dir, fname)\n",
    "        Image.fromarray(img).save(img_path)\n",
    "\n",
    "# 示例调用\n",
    "cifar10_py_folder = \"./cifar-10-batches-py\"  # 解压后的路径\n",
    "output_folder = \"./cifar10_caltech_style\"\n",
    "\n",
    "convert_to_caltech_style(cifar10_py_folder, output_folder)\n"
   ]
  },
  {
   "cell_type": "code",
   "execution_count": 5,
   "id": "abdbb21d-1b4f-46ac-a1c6-39898b40f3dc",
   "metadata": {
    "tags": []
   },
   "outputs": [
    {
     "name": "stdout",
     "output_type": "stream",
     "text": [
      "标注文件已生成并保存到: /root/autodl-tmp/cifar-10/cifar10.csv\n"
     ]
    }
   ],
   "source": [
    "import os\n",
    "import csv\n",
    "from pathlib import Path\n",
    "\n",
    "def listdir_nohidden(path):\n",
    "    \"\"\"列出目录下所有非隐藏文件和文件夹\"\"\"\n",
    "    return [f for f in os.listdir(path) if not f.startswith('.')]\n",
    "\n",
    "def generate_csv(image_dir, save_path, ignored_categories=None, new_cnames=None):\n",
    "    \"\"\"\n",
    "    生成Caltech101数据集的标注文件。\n",
    "    \n",
    "    Args:\n",
    "        image_dir (str): 数据集顶层目录路径。\n",
    "        save_path (str): 保存生成的csv文件的路径。\n",
    "        ignored_categories (list, optional): 要忽略的类别列表。默认为None。\n",
    "        new_cnames (dict, optional): 类别名称映射字典。默认为None。\n",
    "    \"\"\"\n",
    "    if ignored_categories is None:\n",
    "        ignored_categories = []\n",
    "    \n",
    "    # 确保保存路径的目录存在\n",
    "    save_dir = os.path.dirname(save_path)\n",
    "    if not os.path.exists(save_dir):\n",
    "        os.makedirs(save_dir)\n",
    "    \n",
    "    # 获取类别列表\n",
    "    categories = listdir_nohidden(image_dir)\n",
    "    categories = [c for c in categories if c not in ignored_categories]\n",
    "    categories.sort()\n",
    "    \n",
    "    # 准备数据\n",
    "    data = []\n",
    "    for label, category in enumerate(categories):\n",
    "        # 获取类别目录下的图像列表\n",
    "        category_dir = os.path.join(image_dir, category)\n",
    "        images = listdir_nohidden(category_dir)\n",
    "        images = [os.path.join(category_dir, im) for im in images]\n",
    "        \n",
    "        # 更新类别名称（如果存在映射）\n",
    "        if new_cnames is not None and category in new_cnames:\n",
    "            category = new_cnames[category]\n",
    "        \n",
    "        # 添加到数据列表\n",
    "        for image_path in images:\n",
    "            data.append({\n",
    "                'id': len(data),\n",
    "                'image_path': image_path,\n",
    "                'label': category\n",
    "            })\n",
    "    \n",
    "    # 写入csv文件\n",
    "    with open(save_path, mode='w') as file:\n",
    "        writer = csv.DictWriter(file, fieldnames=['id', 'image_path', 'label'])\n",
    "        writer.writeheader()\n",
    "        writer.writerows(data)\n",
    "\n",
    "# 示例用法\n",
    "if __name__ == \"__main__\":\n",
    "    # 数据集路径和保存路径\n",
    "    image_dir = '/root/autodl-tmp/cifar-10/cifar10'  # Caltech101数据集路径\n",
    "    save_path = '/root/autodl-tmp/cifar-10/cifar10.csv'  # 保存路径\n",
    "    \n",
    "    # 忽略的类别和类别名称映射（如果有）\n",
    "    ignored_categories = []  # 根据实际需要调整\n",
    "    new_cnames = None  # 如果需要映射类别名称，可以在这里定义\n",
    "    \n",
    "    # 生成csv文件\n",
    "    generate_csv(image_dir, save_path, ignored_categories, new_cnames)\n",
    "    print(f\"标注文件已生成并保存到: {save_path}\")"
   ]
  },
  {
   "cell_type": "code",
   "execution_count": 4,
   "id": "52a4bb09-6856-4a91-bd27-552c4a2ee6a5",
   "metadata": {
    "tags": []
   },
   "outputs": [
    {
     "name": "stdout",
     "output_type": "stream",
     "text": [
      "/root/autodl-tmp/cifar-10\n"
     ]
    }
   ],
   "source": [
    "!pwd"
   ]
  },
  {
   "cell_type": "code",
   "execution_count": null,
   "id": "93b20fe1-52f8-496c-b5fd-dfffb2e4f452",
   "metadata": {},
   "outputs": [],
   "source": []
  }
 ],
 "metadata": {
  "kernelspec": {
   "display_name": "Python 3 (ipykernel)",
   "language": "python",
   "name": "python3"
  },
  "language_info": {
   "codemirror_mode": {
    "name": "ipython",
    "version": 3
   },
   "file_extension": ".py",
   "mimetype": "text/x-python",
   "name": "python",
   "nbconvert_exporter": "python",
   "pygments_lexer": "ipython3",
   "version": "3.8.10"
  }
 },
 "nbformat": 4,
 "nbformat_minor": 5
}
