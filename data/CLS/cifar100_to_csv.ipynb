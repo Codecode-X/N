{
 "cells": [
  {
   "cell_type": "code",
   "execution_count": 1,
   "id": "042edf45-c6d6-4d51-9f7f-678702c57340",
   "metadata": {},
   "outputs": [
    {
     "name": "stdout",
     "output_type": "stream",
     "text": [
      "/root/autodl-tmp/cifar-100\n"
     ]
    }
   ],
   "source": [
    "!pwd"
   ]
  },
  {
   "cell_type": "code",
   "execution_count": null,
   "id": "98a91bbb-4906-4353-8bf5-1ead0cf53691",
   "metadata": {
    "tags": []
   },
   "outputs": [
    {
     "name": "stderr",
     "output_type": "stream",
     "text": [
      "Processing train: 100%|██████████| 50000/50000 [00:17<00:00, 2886.32it/s]\n",
      "Processing test: 100%|██████████| 10000/10000 [00:03<00:00, 3094.00it/s]\n"
     ]
    }
   ],
   "source": [
    "import os\n",
    "import pickle\n",
    "import numpy as np\n",
    "from PIL import Image\n",
    "from tqdm import tqdm\n",
    "\n",
    "def unpickle(file):\n",
    "    with open(file, 'rb') as fo:\n",
    "        return pickle.load(fo, encoding='latin1')\n",
    "\n",
    "def convert_cifar100_to_caltech_style(cifar100_root, output_dir):\n",
    "    os.makedirs(output_dir, exist_ok=True)\n",
    "    \n",
    "    # Load meta data to get class names\n",
    "    meta = unpickle(os.path.join(cifar100_root, 'meta'))\n",
    "    fine_label_names = meta['fine_label_names']  # 100 class names\n",
    "\n",
    "    # Convert training set\n",
    "    train_data = unpickle(os.path.join(cifar100_root, 'train'))\n",
    "    save_cifar100_images(train_data, fine_label_names, output_dir, split='train')\n",
    "\n",
    "    # Convert test set\n",
    "    test_data = unpickle(os.path.join(cifar100_root, 'test'))\n",
    "    save_cifar100_images(test_data, fine_label_names, output_dir, split='test')\n",
    "\n",
    "def save_cifar100_images(data_dict, label_names, output_dir, split):\n",
    "    data = data_dict['data']  # [50000, 3072]\n",
    "    labels = data_dict['fine_labels']\n",
    "    filenames = data_dict['filenames']\n",
    "\n",
    "    for i in tqdm(range(len(data)), desc=f\"Processing {split}\"):\n",
    "        img = data[i].reshape(3, 32, 32).transpose(1, 2, 0)\n",
    "        label = labels[i]\n",
    "        class_name = label_names[label]\n",
    "\n",
    "        class_dir = os.path.join(output_dir, class_name)\n",
    "        os.makedirs(class_dir, exist_ok=True)\n",
    "\n",
    "        fname = filenames[i]\n",
    "        img_path = os.path.join(class_dir, fname)\n",
    "        Image.fromarray(img).save(img_path)\n",
    "\n",
    "# Example usage\n",
    "cifar100_root = \"./cifar-100-python\"  # Path to the extracted CIFAR-100 dataset\n",
    "output_dir = \"./cifar100\"\n",
    "convert_cifar100_to_caltech_style(cifar100_root, output_dir)\n"
   ]
  },
  {
   "cell_type": "code",
   "execution_count": null,
   "id": "abdbb21d-1b4f-46ac-a1c6-39898b40f3dc",
   "metadata": {
    "tags": []
   },
   "outputs": [
    {
     "name": "stdout",
     "output_type": "stream",
     "text": [
      "标注文件已生成并保存到: /root/autodl-tmp/cifar-100/cifar100.csv\n"
     ]
    }
   ],
   "source": [
    "import os\n",
    "import csv\n",
    "from pathlib import Path\n",
    "\n",
    "def listdir_nohidden(path):\n",
    "    \"\"\"List all non-hidden files and folders in the directory.\"\"\"\n",
    "    return [f for f in os.listdir(path) if not f.startswith('.')]\n",
    "\n",
    "def generate_csv(image_dir, save_path, ignored_categories=None, new_cnames=None):\n",
    "    \"\"\"\n",
    "    Generate annotation file for the Caltech101 dataset.\n",
    "    \n",
    "    Args:\n",
    "        image_dir (str): Path to the top-level directory of the dataset.\n",
    "        save_path (str): Path to save the generated CSV file.\n",
    "        ignored_categories (list, optional): List of categories to ignore. Defaults to None.\n",
    "        new_cnames (dict, optional): Dictionary for category name mapping. Defaults to None.\n",
    "    \"\"\"\n",
    "    if ignored_categories is None:\n",
    "        ignored_categories = []\n",
    "    \n",
    "    # Ensure the save directory exists\n",
    "    save_dir = os.path.dirname(save_path)\n",
    "    if not os.path.exists(save_dir):\n",
    "        os.makedirs(save_dir)\n",
    "    \n",
    "    # Get the list of categories\n",
    "    categories = listdir_nohidden(image_dir)\n",
    "    categories = [c for c in categories if c not in ignored_categories]\n",
    "    categories.sort()\n",
    "    \n",
    "    # Prepare data\n",
    "    data = []\n",
    "    for label, category in enumerate(categories):\n",
    "        # Get the list of images in the category directory\n",
    "        category_dir = os.path.join(image_dir, category)\n",
    "        images = listdir_nohidden(category_dir)\n",
    "        images = [os.path.join(category_dir, im) for im in images]\n",
    "        \n",
    "        # Update category name (if mapping exists)\n",
    "        if new_cnames is not None and category in new_cnames:\n",
    "            category = new_cnames[category]\n",
    "        \n",
    "        # Add to the data list\n",
    "        for image_path in images:\n",
    "            data.append({\n",
    "                'id': len(data),\n",
    "                'image_path': image_path,\n",
    "                'label': category\n",
    "            })\n",
    "    \n",
    "    # Write to CSV file\n",
    "    with open(save_path, mode='w') as file:\n",
    "        writer = csv.DictWriter(file, fieldnames=['id', 'image_path', 'label'])\n",
    "        writer.writeheader()\n",
    "        writer.writerows(data)\n",
    "\n",
    "# Example usage\n",
    "if __name__ == \"__main__\":\n",
    "    # Dataset path and save path\n",
    "    image_dir = '/root/autodl-tmp/cifar-100/cifar100'  # Path to the Caltech101 dataset\n",
    "    save_path = '/root/autodl-tmp/cifar-100/cifar100.csv'  # Save path\n",
    "    \n",
    "    # Ignored categories and category name mapping (if any)\n",
    "    ignored_categories = []  # Adjust as needed\n",
    "    new_cnames = None  # Define category name mapping here if needed\n",
    "    \n",
    "    # Generate the CSV file\n",
    "    generate_csv(image_dir, save_path, ignored_categories, new_cnames)\n",
    "    print(f\"Annotation file has been generated and saved to: {save_path}\")"
   ]
  },
  {
   "cell_type": "code",
   "execution_count": 4,
   "id": "52a4bb09-6856-4a91-bd27-552c4a2ee6a5",
   "metadata": {
    "tags": []
   },
   "outputs": [
    {
     "name": "stdout",
     "output_type": "stream",
     "text": [
      "/root/autodl-tmp/cifar-10\n"
     ]
    }
   ],
   "source": [
    "!pwd"
   ]
  },
  {
   "cell_type": "code",
   "execution_count": null,
   "id": "93b20fe1-52f8-496c-b5fd-dfffb2e4f452",
   "metadata": {},
   "outputs": [],
   "source": []
  }
 ],
 "metadata": {
  "kernelspec": {
   "display_name": "Python 3 (ipykernel)",
   "language": "python",
   "name": "python3"
  },
  "language_info": {
   "codemirror_mode": {
    "name": "ipython",
    "version": 3
   },
   "file_extension": ".py",
   "mimetype": "text/x-python",
   "name": "python",
   "nbconvert_exporter": "python",
   "pygments_lexer": "ipython3",
   "version": "3.8.10"
  }
 },
 "nbformat": 4,
 "nbformat_minor": 5
}
